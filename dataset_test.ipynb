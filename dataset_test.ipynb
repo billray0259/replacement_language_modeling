{
 "cells": [
  {
   "cell_type": "code",
   "execution_count": null,
   "metadata": {},
   "outputs": [],
   "source": [
    "import random\n",
    "\n",
    "import pandas as pd\n",
    "\n",
    "import torch\n",
    "from torch.utils.data import Dataset, DataLoader\n",
    "import torch.nn.functional as F\n",
    "\n",
    "from transformers import AutoTokenizer, AutoModelForTokenClassification, TrainingArguments, Trainer, DataCollatorWithPadding\n",
    "\n",
    "\n",
    "from lib import ReplacementDataset"
   ]
  },
  {
   "cell_type": "code",
   "execution_count": null,
   "metadata": {},
   "outputs": [],
   "source": [
    "df = pd.read_csv(\"Tweets.csv\")\n",
    "text_samples = df[\"text\"].tolist()\n",
    "text_samples[:10]"
   ]
  },
  {
   "cell_type": "code",
   "execution_count": null,
   "metadata": {},
   "outputs": [],
   "source": [
    "tokenizer = AutoTokenizer.from_pretrained(\"distilbert-base-uncased\")\n",
    "tokenizer.add_special_tokens({'additional_special_tokens': ['[EMT]']})\n",
    "empty_id = tokenizer.convert_tokens_to_ids('[EMT]')"
   ]
  },
  {
   "cell_type": "code",
   "execution_count": null,
   "metadata": {},
   "outputs": [],
   "source": [
    "dataset = ReplacementDataset(text_samples, tokenizer, empty_id, n_corruptions_fn=lambda x: 100)"
   ]
  },
  {
   "cell_type": "code",
   "execution_count": null,
   "metadata": {},
   "outputs": [],
   "source": [
    "input_ids, attn_mask, labels = dataset[2]\n",
    "print(input_ids)\n",
    "print(labels)\n",
    "assert input_ids.shape[0] == labels.shape[0], f\"input_ids shape = {input_ids.shape}, labels shape = {labels.shape}\""
   ]
  },
  {
   "cell_type": "code",
   "execution_count": null,
   "metadata": {},
   "outputs": [],
   "source": [
    "labels.sum(dim=1)"
   ]
  }
 ],
 "metadata": {
  "kernelspec": {
   "display_name": "env",
   "language": "python",
   "name": "python3"
  },
  "language_info": {
   "codemirror_mode": {
    "name": "ipython",
    "version": 3
   },
   "file_extension": ".py",
   "mimetype": "text/x-python",
   "name": "python",
   "nbconvert_exporter": "python",
   "pygments_lexer": "ipython3",
   "version": "3.10.6"
  },
  "orig_nbformat": 4,
  "vscode": {
   "interpreter": {
    "hash": "56ebf659c10c7cf077cf84174ae674a7cf1e290812ec5148ed1aecd842ae738a"
   }
  }
 },
 "nbformat": 4,
 "nbformat_minor": 2
}
