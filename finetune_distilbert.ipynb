{
 "cells": [
  {
   "cell_type": "code",
   "execution_count": null,
   "metadata": {},
   "outputs": [],
   "source": [
    "import random\n",
    "\n",
    "import pandas as pd\n",
    "\n",
    "import torch\n",
    "from torch.utils.data import DataLoader\n",
    "from torch.nn import CrossEntropyLoss\n",
    "\n",
    "from lib import ReplacementDataset, get_replacement_model, get_replacement_tokenizer, get_replacement_collate_fn\n",
    "\n",
    "# import LightningModule\n",
    "from pytorch_lightning import LightningModule, Trainer"
   ]
  },
  {
   "cell_type": "code",
   "execution_count": null,
   "metadata": {},
   "outputs": [],
   "source": [
    "df = pd.read_csv(\"Tweets.csv\")\n",
    "text_samples = df[\"text\"].tolist()\n",
    "text_samples[:10]"
   ]
  },
  {
   "cell_type": "code",
   "execution_count": null,
   "metadata": {},
   "outputs": [],
   "source": [
    "class ReplacementLangaugeModel(LightningModule):\n",
    "    \n",
    "        def __init__(self, model_name, lr=1e-4):\n",
    "            super().__init__()\n",
    "            self.tokenizer = get_replacement_tokenizer(model_name, empty_token=\"[EMT]\")\n",
    "            self.empty_id = self.tokenizer.convert_tokens_to_ids(\"[EMT]\")\n",
    "            self.model = get_replacement_model(model_name, len(self.tokenizer))\n",
    "            self.lr = lr\n",
    "            self.loss_fn = CrossEntropyLoss()\n",
    "    \n",
    "\n",
    "        def forward(self, input_ids, attention_mask):\n",
    "            return self.model(input_ids, attention_mask=attention_mask)\n",
    "    \n",
    "\n",
    "        def configure_optimizers(self):\n",
    "            optimizer = torch.optim.Adam(self.parameters(), lr=self.lr)\n",
    "            return optimizer\n",
    "        \n",
    "\n",
    "        def training_step(self, batch, batch_idx):\n",
    "            print(batch[\"input_ids\"].shape, batch[\"attention_mask\"].shape, batch[\"labels\"].shape)\n",
    "            outputs = self(batch[\"input_ids\"], batch[\"attention_mask\"])\n",
    "            loss = self.loss_fn(outputs.logits.permute(0, 2, 1), batch[\"labels\"].permute(0, 2, 1))\n",
    "            self.log(\"train_loss\", loss)\n",
    "            return loss\n",
    "        \n",
    "\n",
    "        def validation_step(self, batch, batch_idx):\n",
    "            outputs = self(batch[\"input_ids\"], batch[\"attention_mask\"])\n",
    "            loss = self.loss_fn(outputs.logits.permute(0, 2, 1), batch[\"labels\"].permute(0, 2, 1))\n",
    "            self.log(\"val_loss\", loss)\n",
    "            return loss\n",
    "        \n"
   ]
  },
  {
   "cell_type": "code",
   "execution_count": null,
   "metadata": {},
   "outputs": [],
   "source": [
    "model = ReplacementLangaugeModel(\"distilbert-base-uncased\")\n",
    "tokenizer = model.tokenizer\n",
    "empty_id = model.empty_id"
   ]
  },
  {
   "cell_type": "code",
   "execution_count": null,
   "metadata": {},
   "outputs": [],
   "source": [
    "train_size = int(0.8 * len(text_samples))\n",
    "train_samples = text_samples[:train_size]\n",
    "val_samples = text_samples[train_size:]\n",
    "\n",
    "dataset = ReplacementDataset(text_samples, tokenizer, empty_id)\n",
    "collate_fn = get_replacement_collate_fn(tokenizer)\n",
    "\n",
    "train_loader = DataLoader(dataset, batch_size=32, shuffle=True, collate_fn=collate_fn, num_workers=12)\n",
    "val_loader = DataLoader(dataset, batch_size=32, shuffle=False, collate_fn=collate_fn, num_workers=12)"
   ]
  },
  {
   "cell_type": "code",
   "execution_count": null,
   "metadata": {},
   "outputs": [],
   "source": [
    "trainer = Trainer(default_root_dir=\"checkpoints/\")\n",
    "trainer.fit(model, train_loader, val_loader)"
   ]
  }
 ],
 "metadata": {
  "kernelspec": {
   "display_name": "Python 3.10.6 ('env': venv)",
   "language": "python",
   "name": "python3"
  },
  "language_info": {
   "codemirror_mode": {
    "name": "ipython",
    "version": 3
   },
   "file_extension": ".py",
   "mimetype": "text/x-python",
   "name": "python",
   "nbconvert_exporter": "python",
   "pygments_lexer": "ipython3",
   "version": "3.10.6"
  },
  "orig_nbformat": 4,
  "vscode": {
   "interpreter": {
    "hash": "56ebf659c10c7cf077cf84174ae674a7cf1e290812ec5148ed1aecd842ae738a"
   }
  }
 },
 "nbformat": 4,
 "nbformat_minor": 2
}
