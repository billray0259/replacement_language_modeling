{
 "cells": [
  {
   "cell_type": "code",
   "execution_count": 1,
   "metadata": {},
   "outputs": [],
   "source": [
    "import random\n",
    "from policy import find_optimal_actions"
   ]
  },
  {
   "cell_type": "code",
   "execution_count": 4,
   "metadata": {},
   "outputs": [
    {
     "name": "stdout",
     "output_type": "stream",
     "text": [
      "[27670, 12623, 24836, 29171, 13781, 1326, 8484, 16753, 15922, 13268, 25683, 27192, 9938, 15617, 11732, 19116, 29217, 29757, 7157, 16537, 4563, 9235, 4579, 24766, 3107, 20262, 26194, 8208, 29810, 17451, 23107, 26549, 19723, 29562, 4815, 10162, 3236, 23915, 2416, 29453, 27868, 22412, 10819, 15471, 18343, 3299, 11593, 14226, 10361, 20017]\n",
      "[20985, 29917, 6700, 18105, 15630, 14506, 28354, 17083, 8535, 2040, 26379, 17979, 460, 3056, 23583, 27528, 13068, 23273, 27028, 25724, 21894, 20488, 37, 20050, 16173, 27133, 28429, 10916, 7992, 23929, 10656, 23056, 28523, 2063, 6260, 18596, 7264, 7818, 26324, 4669, 26318, 17792, 14679, 2988, 2636, 10487, 28674, 16644, 16032, 3573]\n"
     ]
    }
   ],
   "source": [
    "n = 50\n",
    "vocab = list(range(30000))\n",
    "# seed random number generator\n",
    "random.seed(0)\n",
    "initial_sequence = [random.choice(vocab) for _ in range(n)]\n",
    "print(initial_sequence)\n",
    "target_sequence = [random.choice(vocab) for _ in range(n)]\n",
    "print(target_sequence)"
   ]
  },
  {
   "cell_type": "code",
   "execution_count": 5,
   "metadata": {},
   "outputs": [
    {
     "name": "stdout",
     "output_type": "stream",
     "text": [
      "6315025\n",
      "actions 5050 levenshtein 18945026\n",
      "50\n",
      "[('R', 0, 20985), ('R', 1, 29917), ('R', 2, 6700), ('R', 3, 18105), ('R', 4, 15630), ('R', 5, 14506), ('R', 6, 28354), ('R', 7, 17083), ('R', 8, 8535), ('R', 9, 2040), ('R', 10, 26379), ('R', 11, 17979), ('R', 12, 460), ('R', 13, 3056), ('R', 14, 23583), ('R', 15, 27528), ('R', 16, 13068), ('R', 17, 23273), ('R', 18, 27028), ('R', 19, 25724), ('R', 20, 21894), ('R', 21, 20488), ('R', 22, 37), ('R', 23, 20050), ('R', 24, 16173), ('R', 25, 27133), ('R', 26, 28429), ('R', 27, 10916), ('R', 28, 7992), ('R', 29, 23929), ('R', 30, 10656), ('R', 31, 23056), ('R', 32, 28523), ('R', 33, 2063), ('R', 34, 6260), ('R', 35, 18596), ('R', 36, 7264), ('R', 37, 7818), ('R', 38, 26324), ('R', 39, 4669), ('R', 40, 26318), ('R', 41, 17792), ('R', 42, 14679), ('R', 43, 2988), ('R', 44, 2636), ('R', 45, 10487), ('R', 46, 28674), ('R', 47, 16644), ('R', 48, 16032), ('R', 49, 3573)]\n"
     ]
    }
   ],
   "source": [
    "n_actions = 0\n",
    "ld_count = 0\n",
    "actions, action_strs = find_optimal_actions(initial_sequence, target_sequence)\n",
    "print(\"actions\", n_actions, \"levenshtein\", ld_count)\n",
    "print(len(action_strs))\n",
    "print(action_strs)"
   ]
  },
  {
   "cell_type": "code",
   "execution_count": 6,
   "metadata": {},
   "outputs": [
    {
     "data": {
      "text/plain": [
       "2.9999648235415415"
      ]
     },
     "execution_count": 6,
     "metadata": {},
     "output_type": "execute_result"
    }
   ],
   "source": [
    "2473216/824415"
   ]
  }
 ],
 "metadata": {
  "kernelspec": {
   "display_name": "Python 3.10.6 ('env': venv)",
   "language": "python",
   "name": "python3"
  },
  "language_info": {
   "codemirror_mode": {
    "name": "ipython",
    "version": 3
   },
   "file_extension": ".py",
   "mimetype": "text/x-python",
   "name": "python",
   "nbconvert_exporter": "python",
   "pygments_lexer": "ipython3",
   "version": "3.10.6"
  },
  "orig_nbformat": 4,
  "vscode": {
   "interpreter": {
    "hash": "56ebf659c10c7cf077cf84174ae674a7cf1e290812ec5148ed1aecd842ae738a"
   }
  }
 },
 "nbformat": 4,
 "nbformat_minor": 2
}
